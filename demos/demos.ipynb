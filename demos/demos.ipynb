{
 "cells": [
  {
   "cell_type": "markdown",
   "source": [
    "# pypdb demos\n",
    "\n",
    "This is a set of basic examples of the usage and outputs of the various individual functions included in. There are generally three types of functions."
   ],
   "metadata": {},
   "attachments": {}
  },
  {
   "cell_type": "markdown",
   "source": [
    "### Preamble"
   ],
   "metadata": {},
   "attachments": {}
  },
  {
   "cell_type": "code",
   "execution_count": null,
   "source": [
    "%pylab inline\n",
    "from IPython.display import HTML\n",
    "\n",
    "# Import from local directory\n",
    "# import sys\n",
    "# sys.path.insert(0, '../pypdb')\n",
    "# from pypdb import *\n",
    "\n",
    "# Import from installed package\n",
    "from pypdb import *\n",
    "\n",
    "%load_ext autoreload\n",
    "%autoreload 2"
   ],
   "outputs": [],
   "metadata": {}
  },
  {
   "cell_type": "markdown",
   "source": [
    "# Search functions that return lists of PDB IDs"
   ],
   "metadata": {},
   "attachments": {}
  },
  {
   "cell_type": "code",
   "execution_count": null,
   "source": [
    "found_pdbs = Query(27499440, \"PubmedIdQuery\").search()\n",
    "print(found_pdbs[:10])"
   ],
   "outputs": [],
   "metadata": {}
  },
  {
   "cell_type": "markdown",
   "source": [
    "#### Get a list of PDBs for a specific search term"
   ],
   "metadata": {},
   "attachments": {}
  },
  {
   "cell_type": "code",
   "execution_count": null,
   "source": [
    "found_pdbs = Query(\"ribosome\").search()\n",
    "print(found_pdbs[:10])"
   ],
   "outputs": [],
   "metadata": {}
  },
  {
   "cell_type": "markdown",
   "source": [
    "#### Search by PubMed ID Number"
   ],
   "metadata": {},
   "attachments": {}
  },
  {
   "cell_type": "code",
   "execution_count": null,
   "source": [
    "found_pdbs = Query(27499440, \"PubmedIdQuery\").search()\n",
    "print(found_pdbs[:10])"
   ],
   "outputs": [],
   "metadata": {}
  },
  {
   "cell_type": "markdown",
   "source": [
    "#### Search by source organism using NCBI TaxId"
   ],
   "metadata": {},
   "attachments": {}
  },
  {
   "cell_type": "code",
   "execution_count": null,
   "source": [
    "found_pdbs = Query('6239', 'TreeEntityQuery').search() #TaxID for C elegans\n",
    "print(found_pdbs[:5])"
   ],
   "outputs": [],
   "metadata": {}
  },
  {
   "cell_type": "markdown",
   "source": [
    "#### Search by a specific experimental method"
   ],
   "metadata": {},
   "attachments": {}
  },
  {
   "cell_type": "code",
   "execution_count": null,
   "source": [
    "found_pdbs = Query('SOLID-STATE NMR', query_type='ExpTypeQuery').search()\n",
    "print(found_pdbs[:10])"
   ],
   "outputs": [],
   "metadata": {}
  },
  {
   "cell_type": "markdown",
   "source": [
    "#### Search by protein structure similarity"
   ],
   "metadata": {},
   "attachments": {}
  },
  {
   "cell_type": "code",
   "execution_count": null,
   "source": [
    "found_pdbs = Query('2E8D', query_type=\"structure\").search()\n",
    "print(found_pdbs[:10])"
   ],
   "outputs": [],
   "metadata": {}
  },
  {
   "cell_type": "markdown",
   "source": [
    "#### Search by Author"
   ],
   "metadata": {},
   "attachments": {}
  },
  {
   "cell_type": "code",
   "execution_count": null,
   "source": [
    "found_pdbs = Query('Perutz, M.F.', query_type='AdvancedAuthorQuery').search()\n",
    "print(found_pdbs)"
   ],
   "outputs": [],
   "metadata": {}
  },
  {
   "cell_type": "markdown",
   "source": [
    "#### Search by organism"
   ],
   "metadata": {},
   "attachments": {}
  },
  {
   "cell_type": "code",
   "execution_count": null,
   "source": [
    "q = Query(\"Dictyostelium\", query_type=\"OrganismQuery\")\n",
    "print(q.search()[:10])"
   ],
   "outputs": [],
   "metadata": {}
  },
  {
   "cell_type": "markdown",
   "source": [
    "# Information Search functions\n",
    "While the basic functions described in the previous section are useful for looking up and manipulating individual unique entries, these functions are intended to be more user-facing: they take search keywords and return lists of authors or dates"
   ],
   "metadata": {},
   "attachments": {}
  },
  {
   "cell_type": "markdown",
   "source": [
    "#### Find papers for a given keyword"
   ],
   "metadata": {},
   "attachments": {}
  },
  {
   "cell_type": "code",
   "execution_count": null,
   "source": [
    "matching_papers = find_papers('crispr', max_results=10)\n",
    "print(list(matching_papers)[:10])"
   ],
   "outputs": [],
   "metadata": {}
  },
  {
   "cell_type": "markdown",
   "source": [
    "# Functions that return information about single PDB IDs"
   ],
   "metadata": {},
   "attachments": {}
  },
  {
   "cell_type": "markdown",
   "source": [
    "#### Get the full PDB file"
   ],
   "metadata": {},
   "attachments": {}
  },
  {
   "cell_type": "code",
   "execution_count": null,
   "source": [
    "pdb_file = get_pdb_file('4lza', filetype='cif', compression=False)\n",
    "print(pdb_file[:400])"
   ],
   "outputs": [],
   "metadata": {}
  },
  {
   "cell_type": "markdown",
   "source": [
    "#### Get a general description of the entry's metadata"
   ],
   "metadata": {},
   "attachments": {}
  },
  {
   "cell_type": "code",
   "execution_count": null,
   "source": [
    "all_info = get_info('4LZA')\n",
    "print(list(all_info.keys()))"
   ],
   "outputs": [],
   "metadata": {}
  },
  {
   "cell_type": "markdown",
   "source": [
    "#### Run a Sequence search\n",
    "\n",
    "Formerly using BLAST, this method now uses MMseqs2"
   ],
   "metadata": {},
   "attachments": {}
  },
  {
   "cell_type": "code",
   "execution_count": null,
   "source": [
    "q = Query(\"VLSPADKTNVKAAWGKVGAHAGEYGAEALERMFLSFPTTKTYFPHFDLSHGSAQVKGHGKKVADALTAVAHVDDMPNAL\", \n",
    "          query_type=\"sequence\", \n",
    "          return_type=\"polymer_entity\")\n",
    "\n",
    "print(q.search())"
   ],
   "outputs": [],
   "metadata": {}
  },
  {
   "cell_type": "markdown",
   "source": [
    "#### Search by PFAM number"
   ],
   "metadata": {},
   "attachments": {}
  },
  {
   "cell_type": "code",
   "execution_count": null,
   "source": [
    "pfam_info = Query(\"PF00008\", query_type=\"pfam\").search()\n",
    "print(pfam_info[:5])"
   ],
   "outputs": [],
   "metadata": {}
  },
  {
   "cell_type": "markdown",
   "source": [
    "# New API for advanced search\n",
    "\n",
    "The old API will gradually migrate to use these functions"
   ],
   "metadata": {},
   "attachments": {}
  },
  {
   "cell_type": "code",
   "execution_count": null,
   "source": [
    "from pypdb.clients.search.search_client import perform_search\n",
    "from pypdb.clients.search.search_client import ReturnType\n",
    "from pypdb.clients.search.operators import text_operators"
   ],
   "outputs": [],
   "metadata": {}
  },
  {
   "cell_type": "markdown",
   "source": [
    "## Search for all entries that mention the word 'ribosome'"
   ],
   "metadata": {},
   "attachments": {}
  },
  {
   "cell_type": "code",
   "execution_count": null,
   "source": [
    "search_operator = text_operators.DefaultOperator(value=\"ribosome\")\n",
    "return_type = ReturnType.ENTRY\n",
    "\n",
    "results = perform_search(search_operator, return_type)\n",
    "\n",
    "print(results[:10])"
   ],
   "outputs": [],
   "metadata": {}
  },
  {
   "cell_type": "markdown",
   "source": [
    "## Search for polymers from 'Mus musculus'"
   ],
   "metadata": {},
   "attachments": {}
  },
  {
   "cell_type": "code",
   "execution_count": null,
   "source": [
    "search_operator = text_operators.ExactMatchOperator(value=\"Mus musculus\",\n",
    "                                                    attribute=\"rcsb_entity_source_organism.taxonomy_lineage.name\")\n",
    "return_type = ReturnType.POLYMER_ENTITY\n",
    "\n",
    "results = perform_search(search_operator, return_type)\n",
    "\n",
    "print(results[:5])"
   ],
   "outputs": [],
   "metadata": {}
  },
  {
   "cell_type": "markdown",
   "source": [
    "## Search for non-polymers from 'Mus musculus' or 'Homo sapiens'"
   ],
   "metadata": {},
   "attachments": {}
  },
  {
   "cell_type": "code",
   "execution_count": null,
   "source": [
    "search_operator = text_operators.InOperator(values=[\"Mus musculus\", \"Homo sapiens\"],\n",
    "                                            attribute=\"rcsb_entity_source_organism.taxonomy_lineage.name\")\n",
    "return_type = ReturnType.NON_POLYMER_ENTITY\n",
    "\n",
    "results = perform_search(search_operator, return_type)\n",
    "print(results[:5])"
   ],
   "outputs": [],
   "metadata": {}
  },
  {
   "cell_type": "markdown",
   "source": [
    "## Search for polymer instances whose titles contain \"actin\" or \"binding\" or \"protein\""
   ],
   "metadata": {},
   "attachments": {}
  },
  {
   "cell_type": "code",
   "execution_count": null,
   "source": [
    "search_operator = text_operators.ContainsWordsOperator(value=\"actin-binding protein\",\n",
    "                                            attribute=\"struct.title\")\n",
    "return_type = ReturnType.POLYMER_INSTANCE\n",
    "\n",
    "results = perform_search(search_operator, return_type)\n",
    "\n",
    "print(results[:5])"
   ],
   "outputs": [],
   "metadata": {}
  },
  {
   "cell_type": "markdown",
   "source": [
    "## Search for assemblies that contain the words \"actin binding protein\"\n",
    "(must be in that order).\n",
    "\n",
    "For example, \"actin-binding protein\" and \"actin binding protein\" will match,\n",
    "but \"protein binding actin\" will not."
   ],
   "metadata": {},
   "attachments": {}
  },
  {
   "cell_type": "code",
   "execution_count": null,
   "source": [
    "search_operator = text_operators.ContainsPhraseOperator(value=\"actin-binding protein\",\n",
    "                                            attribute=\"struct.title\")\n",
    "return_type = ReturnType.ASSEMBLY\n",
    "\n",
    "results = perform_search(search_operator, return_type, verbosity=True)\n",
    "\n",
    "print(results[:5])"
   ],
   "outputs": [],
   "metadata": {}
  },
  {
   "cell_type": "markdown",
   "source": [
    "## Search for entries released in 2019 or later"
   ],
   "metadata": {},
   "attachments": {}
  },
  {
   "cell_type": "code",
   "execution_count": null,
   "source": [
    "search_operator = text_operators.ComparisonOperator(\n",
    "       value=\"2019-01-01T00:00:00Z\",\n",
    "       attribute=\"rcsb_accession_info.initial_release_date\",\n",
    "       comparison_type=text_operators.ComparisonType.GREATER)\n",
    "return_type = ReturnType.ENTRY\n",
    "\n",
    "results = perform_search(search_operator, return_type)\n",
    "\n",
    "print(results[:5])"
   ],
   "outputs": [],
   "metadata": {}
  },
  {
   "cell_type": "markdown",
   "source": [
    "## Search for entries released only in 2019"
   ],
   "metadata": {},
   "attachments": {}
  },
  {
   "cell_type": "code",
   "execution_count": null,
   "source": [
    "search_operator = text_operators.RangeOperator(\n",
    "    from_value=\"2019-01-01T00:00:00Z\",\n",
    "    to_value=\"2020-01-01T00:00:00Z\",\n",
    "    include_lower=True,\n",
    "    include_upper=False,\n",
    "    attribute=\"rcsb_accession_info.initial_release_date\")\n",
    "return_type = ReturnType.ENTRY\n",
    "\n",
    "results = perform_search(search_operator, return_type)\n",
    "\n",
    "print(results[:5])"
   ],
   "outputs": [],
   "metadata": {}
  },
  {
   "cell_type": "markdown",
   "source": [
    "## Search by cell length and suppress query output"
   ],
   "metadata": {},
   "attachments": {}
  },
  {
   "cell_type": "code",
   "execution_count": null,
   "source": [
    "from pypdb.clients.search.search_client import perform_search_with_graph, SearchService, ReturnType\n",
    "from pypdb.clients.search.operators import text_operators\n",
    "\n",
    "cell_a_operator = text_operators.RangeOperator(\n",
    "    attribute='cell.length_a',\n",
    "    from_value=80,\n",
    "    to_value=84,\n",
    "    include_upper=True\n",
    ")\n",
    "\n",
    "results = perform_search_with_graph(\n",
    "    query_object=cell_a_operator,\n",
    "    return_type=ReturnType.ENTRY,\n",
    "    verbosity=False,\n",
    ")\n",
    "\n",
    "print(results[:5])"
   ],
   "outputs": [],
   "metadata": {}
  },
  {
   "cell_type": "markdown",
   "source": [
    "## Search for structures under 4 angstroms of resolution"
   ],
   "metadata": {},
   "attachments": {}
  },
  {
   "cell_type": "code",
   "execution_count": null,
   "source": [
    "search_operator = text_operators.ComparisonOperator(\n",
    "           value=4,\n",
    "           attribute=\"rcsb_entry_info.resolution_combined\",\n",
    "           comparison_type=text_operators.ComparisonType.LESS)\n",
    "return_type = ReturnType.ENTRY\n",
    "\n",
    "results = perform_search(search_operator, return_type)\n",
    "\n",
    "print(results[:5])"
   ],
   "outputs": [],
   "metadata": {}
  },
  {
   "cell_type": "markdown",
   "source": [
    "## Search for structures with a given attribute.\n",
    "\n",
    "(Admittedly every structure has a release date, but the same logic would\n",
    " apply for a more sparse RCSB attribute).\n"
   ],
   "metadata": {},
   "attachments": {}
  },
  {
   "cell_type": "code",
   "execution_count": null,
   "source": [
    "search_operator = text_operators.ExistsOperator(\n",
    "    attribute=\"rcsb_accession_info.initial_release_date\")\n",
    "return_type = ReturnType.ENTRY\n",
    "\n",
    "results = perform_search(search_operator, return_type)\n",
    "\n",
    "print(results[:5])"
   ],
   "outputs": [],
   "metadata": {}
  },
  {
   "cell_type": "markdown",
   "source": [
    "## Search for 'Mus musculus' or 'Homo sapiens' structures after 2019 using graph search\n"
   ],
   "metadata": {},
   "attachments": {}
  },
  {
   "cell_type": "code",
   "execution_count": null,
   "source": [
    "from pypdb.clients.search.search_client import perform_search_with_graph\n",
    "from pypdb.clients.search.search_client import ReturnType\n",
    "from pypdb.clients.search.search_client import QueryGroup, LogicalOperator\n",
    "from pypdb.clients.search.operators import text_operators\n",
    "\n",
    "# SearchOperator associated with structures with under 4 Angstroms of resolution\n",
    "under_4A_resolution_operator = text_operators.ComparisonOperator(\n",
    "       value=4,\n",
    "       attribute=\"rcsb_entry_info.resolution_combined\",\n",
    "       comparison_type=text_operators.ComparisonType.GREATER)\n",
    "\n",
    "# SearchOperator associated with entities containing 'Mus musculus' lineage\n",
    "is_mus_operator = text_operators.ExactMatchOperator(\n",
    "            value=\"Mus musculus\",\n",
    "            attribute=\"rcsb_entity_source_organism.taxonomy_lineage.name\")\n",
    "\n",
    "# SearchOperator associated with entities containing 'Homo sapiens' lineage\n",
    "is_human_operator = text_operators.ExactMatchOperator(\n",
    "            value=\"Homo sapiens\",\n",
    "            attribute=\"rcsb_entity_source_organism.taxonomy_lineage.name\")\n",
    "\n",
    "# QueryGroup associated with being either human or `Mus musculus`\n",
    "is_human_or_mus_group = QueryGroup(\n",
    "    queries = [is_mus_operator, is_human_operator],\n",
    "    logical_operator = LogicalOperator.OR\n",
    ")\n",
    "\n",
    "# QueryGroup associated with being ((Human OR Mus) AND (Under 4 Angstroms))\n",
    "is_under_4A_and_human_or_mus_group = QueryGroup(\n",
    "    queries = [is_human_or_mus_group, under_4A_resolution_operator],\n",
    "    logical_operator = LogicalOperator.AND\n",
    ")\n",
    "\n",
    "return_type = ReturnType.ENTRY\n",
    "\n",
    "results = perform_search_with_graph(\n",
    "  query_object=is_under_4A_and_human_or_mus_group,\n",
    "  return_type=return_type)\n",
    "print(\"\\n\", results[:10]) # Huzzah"
   ],
   "outputs": [],
   "metadata": {}
  }
 ],
 "metadata": {
  "kernelspec": {
   "display_name": "Python 3.8.5 ('pypdb')",
   "language": "python",
   "name": "python3"
  },
  "language_info": {
   "codemirror_mode": {
    "name": "ipython",
    "version": 3
   },
   "file_extension": ".py",
   "mimetype": "text/x-python",
   "name": "python",
   "nbconvert_exporter": "python",
   "pygments_lexer": "ipython3",
   "version": "3.8.16"
  },
  "vscode": {
   "interpreter": {
    "hash": "09ee6d1bf2b7cd417c8167e46ca6628a27deedbfc4a760a738682f93903b6ec3"
   }
  }
 },
 "nbformat": 4,
 "nbformat_minor": 4
}